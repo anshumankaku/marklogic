{
 "cells": [
  {
   "cell_type": "code",
   "execution_count": 3,
   "metadata": {},
   "outputs": [
    {
     "name": "stdout",
     "output_type": "stream",
     "text": [
      "<Response [201]>\n"
     ]
    }
   ],
   "source": [
    "import requests\n",
    "from requests import auth\n",
    "\n",
    "me = auth.HTTPDigestAuth(\"marklogic-demo-writer\",\"marklogic-demo-writer\")\n",
    "request_headers = {'Content-type' : 'application/josn'}\n",
    "\n",
    "json_string = \"\"\"{\n",
    "\"employee\" : {\n",
    "\"name\": \"Anshuman\",\n",
    "\"skill\" : \"Marklogic\"\n",
    "}\n",
    "}\"\"\"\n",
    "\n",
    "rep = requests.put(\"http://localhost:8011/v1/documents?uri=/python_test.json\", auth=me, headers=request_headers, data=json_string)\n",
    "\n",
    "print(rep)"
   ]
  },
  {
   "cell_type": "code",
   "execution_count": 4,
   "metadata": {},
   "outputs": [
    {
     "data": {
      "text/plain": [
       "{'employee': {'name': 'Anshuman', 'skill': 'Marklogic'}}"
      ]
     },
     "execution_count": 4,
     "metadata": {},
     "output_type": "execute_result"
    }
   ],
   "source": [
    "rep_read = requests.get(\"http://localhost:8011/LATEST/documents?uri=/python_test.json\", auth=me, headers=request_headers)\n",
    "rep_read.json()"
   ]
  },
  {
   "cell_type": "code",
   "execution_count": 5,
   "metadata": {},
   "outputs": [
    {
     "name": "stdout",
     "output_type": "stream",
     "text": [
      "<Response [204]>\n"
     ]
    }
   ],
   "source": [
    "json_string = \"\"\"{\n",
    "\"employee\" : {\n",
    "\"name\": \"Anshuman\",\n",
    "\"skill\" : \"Marklogic\",\n",
    "\"age\" : 31\n",
    "}\n",
    "}\"\"\"\n",
    "\n",
    "rep = requests.put(\"http://localhost:8011/v1/documents?uri=/python_test.json\", auth=me, headers=request_headers, data=json_string)\n",
    "\n",
    "print(rep)"
   ]
  },
  {
   "cell_type": "code",
   "execution_count": 6,
   "metadata": {},
   "outputs": [
    {
     "data": {
      "text/plain": [
       "{'employee': {'name': 'Anshuman', 'skill': 'Marklogic', 'age': 31}}"
      ]
     },
     "execution_count": 6,
     "metadata": {},
     "output_type": "execute_result"
    }
   ],
   "source": [
    "rep_read = requests.get(\"http://localhost:8011/LATEST/documents?uri=/python_test.json\", auth=me, headers=request_headers)\n",
    "rep_read.json()"
   ]
  },
  {
   "cell_type": "code",
   "execution_count": 7,
   "metadata": {},
   "outputs": [
    {
     "name": "stdout",
     "output_type": "stream",
     "text": [
      "<Response [204]>\n"
     ]
    }
   ],
   "source": [
    "rep_delete = requests.delete(\"http://localhost:8011/v1/documents?uri=/python_test.json\", auth=me, headers=request_headers)\n",
    "print(rep_delete)"
   ]
  },
  {
   "cell_type": "code",
   "execution_count": 8,
   "metadata": {},
   "outputs": [
    {
     "data": {
      "text/plain": [
       "{'errorResponse': {'statusCode': 404,\n",
       "  'status': 'Not Found',\n",
       "  'messageCode': 'RESTAPI-NODOCUMENT',\n",
       "  'message': 'RESTAPI-NODOCUMENT: (err:FOER0000) Resource or document does not exist:  category: content message: /python_test.json'}}"
      ]
     },
     "execution_count": 8,
     "metadata": {},
     "output_type": "execute_result"
    }
   ],
   "source": [
    "rep_read = requests.get(\"http://localhost:8011/LATEST/documents?uri=/python_test.json\", auth=me, headers=request_headers)\n",
    "rep_read.json()"
   ]
  },
  {
   "cell_type": "code",
   "execution_count": null,
   "metadata": {},
   "outputs": [],
   "source": []
  }
 ],
 "metadata": {
  "kernelspec": {
   "display_name": "Python 3",
   "language": "python",
   "name": "python3"
  },
  "language_info": {
   "codemirror_mode": {
    "name": "ipython",
    "version": 3
   },
   "file_extension": ".py",
   "mimetype": "text/x-python",
   "name": "python",
   "nbconvert_exporter": "python",
   "pygments_lexer": "ipython3",
   "version": "3.7.6"
  }
 },
 "nbformat": 4,
 "nbformat_minor": 4
}
